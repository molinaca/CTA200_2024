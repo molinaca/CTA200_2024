{
 "cells": [
  {
   "cell_type": "code",
   "execution_count": 2,
   "id": "f6fa1dd2-a268-4c2c-8563-f71035a2d9db",
   "metadata": {},
   "outputs": [],
   "source": [
    "import numpy as np\n",
    "import pandas as pd\n",
    "from astroquery.gaia import Gaia\n",
    "from astropy.table import Table, join"
   ]
  },
  {
   "cell_type": "code",
   "execution_count": 3,
   "id": "07d052f1-1c8f-4272-a3fb-e9c4b06c22d2",
   "metadata": {},
   "outputs": [
    {
     "name": "stdout",
     "output_type": "stream",
     "text": [
      "SPICY      ra        dec     ...      source_id            parallax     \n",
      "------ ---------- ---------- ... ------------------- -------------------\n",
      "104880 293.863407  18.286479 ... 1825084951587311744  2.3945404945328193\n",
      "104889 293.892352  18.282433 ... 1825085024629594112 0.18262421171729878\n",
      "104888 293.887667  18.299312 ... 1825085089026274816        -1.871003603\n",
      "104885  293.88018  18.317742 ... 1825085673141941376        -0.618662745\n",
      "104744 293.657932  18.433103 ... 1825102719896770432         0.088305991\n",
      "104799 293.730158  18.543508 ... 1825107942576796544        -0.452508823\n",
      "104897 293.906503  18.761026 ... 1825118383614979968   1.445751609477931\n",
      "105183 294.378953  18.950878 ... 1825147692473881600  0.7585670669989271\n",
      "105167 294.350193  18.956733 ... 1825147726833602944        -3.254508783\n",
      "105128 294.284478  19.047773 ... 1825152163539336960  0.7765406544513953\n",
      "   ...        ...        ... ...                 ...                 ...\n",
      " 12965 184.791102 -61.827476 ... 6057905930583210368   8.754992692151733\n",
      " 13069 185.220326 -61.730917 ... 6057907682929806208 0.49595705369852755\n",
      " 13174 185.610812 -61.636206 ... 6057915478249252992                  --\n",
      " 13148 185.478894 -61.587702 ... 6057918231319611648  0.2593829047678083\n",
      " 12043 180.276214 -61.774444 ... 6058469494671027584        -0.453961939\n",
      " 12053 180.319816 -61.837378 ... 6058469597746169344        -0.115938498\n",
      " 12063 180.365049 -61.614551 ... 6058487293011523072        -0.091867686\n",
      " 12067 180.414986  -61.59474 ... 6058487640902960512   1.487313760597762\n",
      " 12225 181.293536 -61.500872 ... 6058503034077364736         0.065705386\n",
      " 12032 180.176347 -61.354674 ... 6058543887839509632  0.1513268090785356\n",
      "Length = 36423 rows\n"
     ]
    }
   ],
   "source": [
    "##Now matching gaia parameters to stars in YSOs csv using astropy\n",
    "\n",
    "##Load data\n",
    "yso_table = Table.read('SPICY_YSOs_new.csv', format='csv')\n",
    "parallax_table = Table.read('YSOs_parallax.csv', format='csv')\n",
    "\n",
    "yso_table['source_id'] = yso_table['GaiaDR2'].astype(str) ##Make sure that they're both strings\n",
    "parallax_table['source_id'] = parallax_table['source_id'].astype(str)\n",
    "\n",
    "yso_table = yso_table[~yso_table['source_id'].mask]  ##Take out any values without a gaia source designation\n",
    "yso_table = yso_table[yso_table['source_id'] != '']\n",
    "\n",
    "YSOs_withgaia = join(yso_table, parallax_table, keys='source_id', join_type='inner') ##Join the tables\n",
    "\n",
    "print(YSOs_withgaia)\n",
    "\n",
    "##Save new table\n",
    "YSOs_withgaia.write('YSOs_withgaia.csv', format='csv', overwrite=True)"
   ]
  },
  {
   "cell_type": "code",
   "execution_count": 4,
   "id": "30ee85c8-f3e0-4fd2-92d4-67d9f785b2dd",
   "metadata": {},
   "outputs": [
    {
     "name": "stdout",
     "output_type": "stream",
     "text": [
      "0         0.417617\n",
      "1         5.475725\n",
      "4        11.324260\n",
      "6         0.691682\n",
      "7         1.318275\n",
      "           ...    \n",
      "36414     2.016304\n",
      "36416     3.855304\n",
      "36420     0.672353\n",
      "36421    15.219452\n",
      "36422     6.608214\n",
      "Name: D, Length: 22782, dtype: float64\n"
     ]
    }
   ],
   "source": [
    "YSOsandGaia = pd.read_csv('YSOs_withgaia.csv')\n",
    "YSOsandGaia = YSOsandGaia[YSOsandGaia['parallax'].notna() & (YSOsandGaia['parallax'] > 0)] ##remove any entries with no or negative parallax to avoid issues\n",
    "\n",
    "parallax = YSOsandGaia['parallax']\n",
    "\n",
    "parallax_arcsec = parallax/1000\n",
    "\n",
    "YSOsandGaia['D'] = (1/parallax_arcsec)/1000 #Get in kpc\n",
    "\n",
    "print(YSOsandGaia['D'])\n",
    "\n",
    "YSOsandGaia.to_csv('YSOs_withdist.csv', index=False)"
   ]
  },
  {
   "cell_type": "code",
   "execution_count": null,
   "id": "7c089b24-808d-4006-baf0-ddf361b53097",
   "metadata": {},
   "outputs": [],
   "source": []
  }
 ],
 "metadata": {
  "kernelspec": {
   "display_name": "Python 3 (ipykernel)",
   "language": "python",
   "name": "python3"
  },
  "language_info": {
   "codemirror_mode": {
    "name": "ipython",
    "version": 3
   },
   "file_extension": ".py",
   "mimetype": "text/x-python",
   "name": "python",
   "nbconvert_exporter": "python",
   "pygments_lexer": "ipython3",
   "version": "3.10.12"
  }
 },
 "nbformat": 4,
 "nbformat_minor": 5
}
