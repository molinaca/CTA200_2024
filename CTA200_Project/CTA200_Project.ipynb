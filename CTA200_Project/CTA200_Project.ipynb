{
 "cells": [
  {
   "cell_type": "code",
   "execution_count": null,
   "id": "0f2786a1-d37f-413d-a92b-d8d40f46ef98",
   "metadata": {},
   "outputs": [],
   "source": [
    "import numpy as np\n",
    "import matplotlib.pyplot as plt\n",
    "import healpy as hp\n",
    "import h5py\n",
    "import pandas as pd\n"
   ]
  },
  {
   "cell_type": "markdown",
   "id": "fbd3a467-6b32-4ead-b556-b93d52978686",
   "metadata": {},
   "source": [
    "## Set up for the Project\n",
    "#### Code to load files, obtain needed parameters etc"
   ]
  },
  {
   "cell_type": "code",
   "execution_count": null,
   "id": "4866001c-580d-4a22-afe8-14e4b946035e",
   "metadata": {},
   "outputs": [],
   "source": [
    "##Define files\n",
    "filename0=\"3D_temperature_9_dist_bins_nside_128.hdf5\"\n",
    "filename1=\"3D_temperature_17_dist_bins_nside_128.hdf5\"\n"
   ]
  },
  {
   "cell_type": "code",
   "execution_count": null,
   "id": "e2c9dffd-0f1d-4e42-9a0f-88e6baaa531b",
   "metadata": {},
   "outputs": [],
   "source": [
    "##Functions to load and plot temperature map\n",
    "def load_3D_temperature_data(file):\n",
    "    '''\n",
    "    A function that loads the 3D dust temperature map and returns a dictionary of the data. This dictionary contains the temperature, distance slices, the number of distance bins, the HEALPix resolution Nside, and the healpix ordering (nesting). \n",
    "    Parameters: \n",
    "        file------------------------------hdf5 dust temperature file\n",
    "    Returns:\n",
    "        data_dict-------------------------dictionary\n",
    "\n",
    "    '''\n",
    "    data_dict = {}\n",
    "    with h5py.File(file, \"r\") as g:    \n",
    "        data_dict[\"temperatures\"]=g[\"temperature\"][()] # this is (healpix x distance_bin)\n",
    "        data_dict[\"distance_slices\"] = g[\"distance_slices\"][()]\n",
    "        data_dict[\"nside\"] = g.attrs[\"nside\"]\n",
    "        data_dict[\"nr_of_distance_bins\"] = g.attrs[\"nr_of_distance_bins\"]\n",
    "        data_dict[\"healpix_ordering\"] = g.attrs[\"healpix_ordering\"] #nest\n",
    "        g.close()\n",
    "    return data_dict\n",
    "\n",
    "##Function to load positions and distance of the different star formation tracers\n",
    "def load_sftracer(tracer_data):\n",
    "    '''\n",
    "    A function that loads the longitude, latitude and distance of a star formation tracer. It converts them from degrees to radians, and converts the latitude into colatitude. If no distance is found, the function only returns theta and phi. \n",
    "\n",
    "    Parameters: \n",
    "        tracer_data-------------------------------pandas dataframe, must have a component 'l' and a component 'b', optionally can have 'D'\n",
    "\n",
    "    Returns:\n",
    "        theta-------------------------------------array-like, colatitude in radians\n",
    "        phi---------------------------------------array-like, longitude in radians\n",
    "        distance----------------------------------array-like, distance in kpc\n",
    "    '''\n",
    "    if 'D' in tracer_data: #If the file has distance create a distance variable and return it\n",
    "        distance = tracer_data['D'] \n",
    "        phi = np.radians(tracer_data['l'])\n",
    "        theta = np.radians(90. - tracer_data['b']) #Change from latitude to colatitude\n",
    "\n",
    "        return theta, phi, distance\n",
    "    else: #If there is no distance only return that and phi\n",
    "        phi = np.radians(tracer_data['l'])\n",
    "        theta = np.radians(90. - tracer_data['b'])\n",
    "        print(\"No distance measurement\")\n",
    "    return theta, phi\n",
    "\n",
    "\n",
    "##Function to assign each position to one of the distance slices\n",
    "def assign_distance_slice(data_dict, theta, phi, distance):\n",
    "    '''\n",
    "    A function that assigns one of the distance slices from the 3D dust temperature map, to the position of each object. Based on the distance it checks to see in which slice it belongs and then makes a new array of the positions with their assigned distance slice. \n",
    "\n",
    "    Parameters:\n",
    "        data_dict-------------------------------dictionary, dictionary of one of the 3D dust temperature maps\n",
    "        theta-----------------------------------array-like, colatitude of the object in radians\n",
    "        phi-------------------------------------array-like, longitude of an object in radians\n",
    "        distance--------------------------------array-like, distance to object in kpc\n",
    "\n",
    "    Returns:\n",
    "        theta_slice-----------------------------array-like, colatitude that now has an assigned distance slice\n",
    "        phi-------------------------------------array-like, longitude that now has an assigned distance slice\n",
    "        \n",
    "    '''\n",
    "    \n",
    "    distance_bins = data_dict[\"nr_of_distance_bins\"]\n",
    "    distance_slices = data_dict[\"distance_slices\"]\n",
    "    theta_slice = [[] for i in range(distance_bins)] #Make empty array to store positions with distance slices\n",
    "    phi_slice = [[] for i in range(distance_bins)]\n",
    "\n",
    "    for idx, dist in enumerate(distance): #Do this for each distance value\n",
    "        for ds_idx in range(distance_bins): #Check to see which distance slice sf distance is\n",
    "            if ds_idx ==0 and dist < distance_slices[0]: #Condition for first distance slice\n",
    "               theta_slice[0].append(theta[0])\n",
    "               phi_slice[0].append(phi[0])\n",
    "                  \n",
    "            elif ds_idx > 0 and distance_slices[ds_idx-1] <= dist <= distance_slices[ds_idx]: #Condition for all other distance slices\n",
    "                theta_slice[ds_idx].append(theta[idx])\n",
    "                phi_slice[ds_idx].append(phi[idx])\n",
    "                \n",
    "    return theta_slice, phi_slice #Return \"sliced\" values\n",
    "            \n",
    "\n",
    "def plot_3D_temperature_slice_maps(data_dict, theta, phi, theta2, phi2):\n",
    "    '''\n",
    "    A function make a healpix map of the 3D dust temperature maps at each distance slices. It overplots a scatter plot of different star formation tracers\n",
    "\n",
    "    Parameters:\n",
    "        data_dict-------------------------------dictionary, dictionary of one of the 3D dust temperature maps\n",
    "        theta-----------------------------------array-like, colatitude of a YSO in radians\n",
    "        phi-------------------------------------array-like, longitude of a YSO in radians\n",
    "        theta2-----------------------------------array-like, colatitude of a SFC in radians\n",
    "        phi2-------------------------------------array-like, longitude of a SFC in radians\n",
    "\n",
    "    Returns:\n",
    "        A healpix map at each distance slice with two scatter plots overlaid. \n",
    "    '''\n",
    "    Ts = data_dict[\"temperatures\"]\n",
    "    model_nslices = data_dict[\"nr_of_distance_bins\"]\n",
    "    model_dist_slices = data_dict[\"distance_slices\"]\n",
    "    for ds_index in range(model_nslices):                                 \n",
    "        hp.mollview(Ts[:,ds_index],title=r\"$T$ at distance slice \"+str(ds_index) +\\\n",
    "                                   \" at \"+'{:.2f}'.format(model_dist_slices[ds_index])+\" kpc\",nest=True,min=10,max=25, unit='K')\n",
    "        hp.projscatter(theta2[ds_index], phi2[ds_index], marker='*', s=100, color='red', alpha=0.4) #Added plotting positions of sf tracer\n",
    "        hp.projscatter(theta[ds_index], phi[ds_index], s = 100, marker='o', alpha = 0.9, color='blue') #Added plotting positions of sf tracer\n",
    "        plt.legend(['YSOs', 'SFCs'])\n",
    "        plt.savefig('tempmap_{}.pdf'.format(ds_index))\n",
    "        \n"
   ]
  },
  {
   "cell_type": "code",
   "execution_count": null,
   "id": "b15d0de2-da68-49ec-a901-1c910843965b",
   "metadata": {},
   "outputs": [],
   "source": [
    "##Load temperature map\n",
    "\n",
    "#data_dict0=load_3D_temperature_data(filename0) #Not needed for this project but likely in the future\n",
    "data_dict1=load_3D_temperature_data(filename1)"
   ]
  },
  {
   "cell_type": "code",
   "execution_count": null,
   "id": "0b269c7a-bf70-42da-a4c4-58d143b84293",
   "metadata": {},
   "outputs": [],
   "source": [
    "##Define Nside and Npix\n",
    "Nside = 128 ##based on dust map\n",
    "Npix = hp.nside2npix(Nside)"
   ]
  },
  {
   "cell_type": "code",
   "execution_count": null,
   "id": "ff5b8827-66b3-40ac-9bbc-6948b93022b0",
   "metadata": {},
   "outputs": [],
   "source": [
    "##Get positions of the YSOs\n",
    "\n",
    "#This is for all YSOs in the catalog\n",
    "YSOs = pd.read_csv(\"SPICY_YSOs_new.csv\")\n",
    "theta_ysos, phi_ysos = load_sftracer(YSOs)\n",
    "\n",
    "#Only the YSOs with distance\n",
    "YSOs_with_dist = pd.read_csv(\"YSOS_withdist.csv\")\n",
    "theta_ysos_wdist, phi_ysos_wdist, dist_ysos = load_sftracer(YSOs_with_dist)\n",
    "\n",
    "#Get distances slices for YSOs\n",
    "theta_ysos_sliced, phi_ysos_sliced = assign_distance_slice(data_dict1, theta_ysos_wdist, phi_ysos_wdist, dist_ysos)"
   ]
  },
  {
   "cell_type": "code",
   "execution_count": null,
   "id": "808aa6b0-391d-4a89-832e-4a81beda4511",
   "metadata": {},
   "outputs": [],
   "source": [
    "##Get positions of the SFCs\n",
    "linetoskip = [5, 7, 9, 12, 15, 23, 35, 36, 39] ##skipping lines that have two distances\n",
    "\n",
    "SFCs = pd.read_csv(\"SFC_Regions.csv\", skiprows = linetoskip) ##read file, skipping lines\n",
    "\n",
    "theta_sfc, phi_sfc, dist_sfc = load_sftracer(SFCs) ##get latitude, longitude and distance\n",
    "\n",
    "theta_sfc_sliced, phi_sfc_sliced = assign_distance_slice(data_dict1, theta_sfc, phi_sfc, dist_sfc) ## get positions at different distances"
   ]
  },
  {
   "cell_type": "markdown",
   "id": "9513861d-7f84-4505-9ea5-3f732e2205ca",
   "metadata": {},
   "source": [
    "# Part 1 \n",
    "#### Plot the positions (longitude and latitude) of all the YSOs and SFCs "
   ]
  },
  {
   "cell_type": "code",
   "execution_count": null,
   "id": "32e97767-4526-41ff-9542-0f3e248bc6f6",
   "metadata": {},
   "outputs": [],
   "source": [
    "##Plot star formation tracers in sky on their own (not sliced yet)\n",
    "hp.mollview(title = 'Star Formation Tracers') #Create empty map\n",
    "hp.projscatter(theta_ysos, phi_ysos, marker = '*', s=10, alpha=0.01, color='royalblue')\n",
    "hp.projscatter(theta_sfc, phi_sfc, marker = 'o', facecolors='none', s=50, alpha=1, color='red')\n",
    "plt.savefig('Tracers_all.pdf')\n",
    "plt.show()\n",
    "plt.close()"
   ]
  },
  {
   "cell_type": "markdown",
   "id": "153cfc42-ce5d-4db9-8914-488db4f254da",
   "metadata": {},
   "source": [
    "# Part 2 \n",
    "#### Plot the positions of the YSOs and SFCs at each distance slice in Ioana's dust temperature map"
   ]
  },
  {
   "cell_type": "code",
   "execution_count": null,
   "id": "be2ae80b-7c89-4a5b-a4ee-ec7b9a67222e",
   "metadata": {},
   "outputs": [],
   "source": [
    "##Plot temperature map\n",
    "plot_3D_temperature_slice_maps(data_dict1, theta_sfc_sliced, phi_sfc_sliced, theta_ysos_sliced, phi_ysos_sliced)"
   ]
  }
 ],
 "metadata": {
  "kernelspec": {
   "display_name": "Python 3 (ipykernel)",
   "language": "python",
   "name": "python3"
  },
  "language_info": {
   "codemirror_mode": {
    "name": "ipython",
    "version": 3
   },
   "file_extension": ".py",
   "mimetype": "text/x-python",
   "name": "python",
   "nbconvert_exporter": "python",
   "pygments_lexer": "ipython3",
   "version": "3.10.12"
  }
 },
 "nbformat": 4,
 "nbformat_minor": 5
}
