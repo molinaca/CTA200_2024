{
 "cells": [
  {
   "cell_type": "code",
   "execution_count": 11,
   "id": "bfa4ff97",
   "metadata": {},
   "outputs": [],
   "source": [
    "import numpy as np"
   ]
  },
  {
   "cell_type": "markdown",
   "id": "bb7b5de6",
   "metadata": {},
   "source": [
    "Part 1"
   ]
  },
  {
   "cell_type": "code",
   "execution_count": 63,
   "id": "8f0c99eb",
   "metadata": {},
   "outputs": [],
   "source": [
    "##Function to calculate the results of the polynomial and its derivative\n",
    "def f(x):\n",
    "    '''\n",
    "    A function to calculate the result of a polynomial\n",
    "    \n",
    "    Parameters: x---------------------array-like, a float or integer\n",
    "    \n",
    "    Returns:    polynomial------------array-like, result of the polynomial\n",
    "    \n",
    "    '''\n",
    "    return x**3 - x**2 - 1\n",
    "\n",
    "def df(x):\n",
    "    '''\n",
    "    A function to calculate the result of the derivative of the polynomial\n",
    "    \n",
    "    Parameters: x---------------------array-like, a float or integer\n",
    "    \n",
    "    Returns:    derivative------------array-like, result of the derivative of the polynomial\n",
    "    \n",
    "    '''\n",
    "    return 3*x**2 - 2*x\n"
   ]
  },
  {
   "cell_type": "markdown",
   "id": "cf19d1b6",
   "metadata": {},
   "source": [
    "Part 2"
   ]
  },
  {
   "cell_type": "code",
   "execution_count": 35,
   "id": "9d888555",
   "metadata": {},
   "outputs": [],
   "source": [
    "##Function to find the root of the polynomial\n",
    "\n",
    "def newton(f, df, x0, epsilon=1e-6, max_iter=30):\n",
    "    '''\n",
    "    A function to find the root of a function using Newton's Iteration. Finds root of when f(x) = 0 and prints out result. \n",
    "    If no roots are found within the maximum iterations, the function lets the user know the iteration has failed.\n",
    "    \n",
    "    Parameters: f---------------------function\n",
    "                df--------------------function, derivative of f\n",
    "                x0--------------------array-like, initial guess of root\n",
    "                epsilon---------------float, error\n",
    "                max_iter--------------int, maximum number of iterations\n",
    "    \n",
    "    Returns:    xn--------------------array-like, root of the function\n",
    "                n---------------------int, number of iterations to find root\n",
    "                None------------------result if cannot find root\n",
    "    \n",
    "    '''\n",
    "    #Set xn to initial guess x0\n",
    "    xn = x0 \n",
    "    \n",
    "    #Start for loop to perform Newton iteration\n",
    "    for n in range(max_iter):\n",
    "        \n",
    "        xn1 = xn - f(xn)/df(xn) #Recursive formula\n",
    "        \n",
    "        #Condition to print out root\n",
    "        if abs(f(xn)) < epsilon:\n",
    "            \n",
    "            print(\"Found root \", n ,\" in iterations\") # if f(xn) is less than epsilon, return the number of iterations and the root xn\n",
    "            return xn\n",
    "        \n",
    "        xn = xn1 #Make xn1 the next xn\n",
    "        \n",
    "    print(\"Iteration Failed\") #If no root found within maximum iterations return none\n",
    "    return None\n",
    "        \n",
    "    \n",
    "        "
   ]
  },
  {
   "cell_type": "markdown",
   "id": "907dccc8",
   "metadata": {},
   "source": [
    "Part 3"
   ]
  },
  {
   "cell_type": "code",
   "execution_count": 61,
   "id": "8004dd60",
   "metadata": {},
   "outputs": [
    {
     "name": "stdout",
     "output_type": "stream",
     "text": [
      "Found root  7  in interations\n"
     ]
    },
    {
     "data": {
      "text/plain": [
       "1.4655712402015129"
      ]
     },
     "execution_count": 61,
     "metadata": {},
     "output_type": "execute_result"
    }
   ],
   "source": [
    "#Testing function for first value of x0\n",
    "newton(f, df, x0=5)"
   ]
  },
  {
   "cell_type": "code",
   "execution_count": 56,
   "id": "7a54fd89",
   "metadata": {},
   "outputs": [
    {
     "name": "stdout",
     "output_type": "stream",
     "text": [
      "Found root  8  in interations\n"
     ]
    },
    {
     "data": {
      "text/plain": [
       "1.465571369139617"
      ]
     },
     "execution_count": 56,
     "metadata": {},
     "output_type": "execute_result"
    }
   ],
   "source": [
    "#Testing function for second value of x0\n",
    "newton(f, df, x0=8)"
   ]
  },
  {
   "cell_type": "code",
   "execution_count": 65,
   "id": "7c9c05db",
   "metadata": {},
   "outputs": [
    {
     "name": "stdout",
     "output_type": "stream",
     "text": [
      "Found root  8  in interations\n",
      "1.4655712318767682\n",
      "\n",
      "Found root  9  in interations\n",
      "1.4655712318767862\n"
     ]
    }
   ],
   "source": [
    "##Change epsilon to 1e-8 keeping default values in function\n",
    "\n",
    "#first value of x0\n",
    "print(newton(f, df, x0=5, epsilon=1e-8))\n",
    "print(\"\")\n",
    "\n",
    "#second value of x0\n",
    "print(newton(f, df, x0=8, epsilon=1e-8))"
   ]
  }
 ],
 "metadata": {
  "kernelspec": {
   "display_name": "Python 3 (ipykernel)",
   "language": "python",
   "name": "python3"
  },
  "language_info": {
   "codemirror_mode": {
    "name": "ipython",
    "version": 3
   },
   "file_extension": ".py",
   "mimetype": "text/x-python",
   "name": "python",
   "nbconvert_exporter": "python",
   "pygments_lexer": "ipython3",
   "version": "3.10.2"
  }
 },
 "nbformat": 4,
 "nbformat_minor": 5
}
